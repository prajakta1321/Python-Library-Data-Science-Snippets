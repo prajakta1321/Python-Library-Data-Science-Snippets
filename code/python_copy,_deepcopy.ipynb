{
  "nbformat": 4,
  "nbformat_minor": 0,
  "metadata": {
    "colab": {
      "provenance": []
    },
    "kernelspec": {
      "name": "python3",
      "display_name": "Python 3"
    },
    "language_info": {
      "name": "python"
    }
  },
  "cells": [
    {
      "cell_type": "markdown",
      "source": [
        "# How do you copy an object in Python?"
      ],
      "metadata": {
        "id": "DfhjkAZ-cPxn"
      }
    },
    {
      "cell_type": "code",
      "source": [
        "from copy import copy, deepcopy"
      ],
      "metadata": {
        "id": "XL8hA2jJccpi"
      },
      "execution_count": 1,
      "outputs": []
    },
    {
      "cell_type": "code",
      "source": [
        "# shallow copy\n",
        "\n",
        "list_1 = [1, 2, [3, 5], 4]"
      ],
      "metadata": {
        "id": "JVzQloLRcUP1"
      },
      "execution_count": 2,
      "outputs": []
    },
    {
      "cell_type": "code",
      "source": [
        "list_2 = copy(list_1)"
      ],
      "metadata": {
        "id": "F8oYYCx7cUJ6"
      },
      "execution_count": 3,
      "outputs": []
    },
    {
      "cell_type": "code",
      "source": [
        "list_2[3] = 7    # at the 3rd position we are inserting 7"
      ],
      "metadata": {
        "id": "LURkfi2Sciui"
      },
      "execution_count": 4,
      "outputs": []
    },
    {
      "cell_type": "code",
      "source": [
        "list_2[2].append(6)    # at the 2nd position we are inserting 6"
      ],
      "metadata": {
        "id": "BBOOM0KDcmK1"
      },
      "execution_count": 5,
      "outputs": []
    },
    {
      "cell_type": "code",
      "source": [
        "list_2"
      ],
      "metadata": {
        "colab": {
          "base_uri": "https://localhost:8080/"
        },
        "id": "mKoQLCSMcyMc",
        "outputId": "3144b128-02c0-4324-876b-3f56e4f5b670"
      },
      "execution_count": 6,
      "outputs": [
        {
          "output_type": "execute_result",
          "data": {
            "text/plain": [
              "[1, 2, [3, 5, 6], 7]"
            ]
          },
          "metadata": {},
          "execution_count": 6
        }
      ]
    },
    {
      "cell_type": "code",
      "source": [
        "list_1"
      ],
      "metadata": {
        "colab": {
          "base_uri": "https://localhost:8080/"
        },
        "id": "sAfXdRyKc0lu",
        "outputId": "7819fc36-89ca-4e93-9365-121d38cd2349"
      },
      "execution_count": 7,
      "outputs": [
        {
          "output_type": "execute_result",
          "data": {
            "text/plain": [
              "[1, 2, [3, 5, 6], 4]"
            ]
          },
          "metadata": {},
          "execution_count": 7
        }
      ]
    },
    {
      "cell_type": "code",
      "source": [
        "# deep copy\n",
        "\n",
        "list_3 = deepcopy(list_1)"
      ],
      "metadata": {
        "id": "CBboUkm1c4pj"
      },
      "execution_count": 8,
      "outputs": []
    },
    {
      "cell_type": "code",
      "source": [
        "list_3[3] = 8"
      ],
      "metadata": {
        "id": "9Dt3mqUPc8rO"
      },
      "execution_count": 9,
      "outputs": []
    },
    {
      "cell_type": "code",
      "source": [
        "list_3[2].append(7)"
      ],
      "metadata": {
        "id": "FIEQU7ZldAAy"
      },
      "execution_count": 10,
      "outputs": []
    },
    {
      "cell_type": "code",
      "source": [
        "list_3"
      ],
      "metadata": {
        "colab": {
          "base_uri": "https://localhost:8080/"
        },
        "id": "C0YLrIl8dCmv",
        "outputId": "f80bb54d-f5b5-44d9-f639-ce5979a84a66"
      },
      "execution_count": 11,
      "outputs": [
        {
          "output_type": "execute_result",
          "data": {
            "text/plain": [
              "[1, 2, [3, 5, 6, 7], 8]"
            ]
          },
          "metadata": {},
          "execution_count": 11
        }
      ]
    },
    {
      "cell_type": "code",
      "source": [
        "list_1"
      ],
      "metadata": {
        "colab": {
          "base_uri": "https://localhost:8080/"
        },
        "id": "9_IRUDRNdCds",
        "outputId": "5dd9fcf1-342b-4031-a61d-b03461d653c0"
      },
      "execution_count": 12,
      "outputs": [
        {
          "output_type": "execute_result",
          "data": {
            "text/plain": [
              "[1, 2, [3, 5, 6], 4]"
            ]
          },
          "metadata": {},
          "execution_count": 12
        }
      ]
    }
  ]
}